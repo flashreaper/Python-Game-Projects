{
 "cells": [
  {
   "cell_type": "code",
   "execution_count": 38,
   "metadata": {
    "collapsed": false
   },
   "outputs": [],
   "source": [
    "class gameboard(object):\n",
    "    def __init__(self):\n",
    "        self.board = []\n",
    "    \n",
    "    def new_board(self):\n",
    "        for space in range(9):\n",
    "            self.board.append('')\n",
    "    \n",
    "    def display(self):\n",
    "        print('\\n\\t',self.board[6], '  |  ', self.board[7],'  |  ', self.board[8])\n",
    "        print('\\t','-----------------')\n",
    "        print('\\t',self.board[3], '  |  ', self.board[4],'  |  ', self.board[5])\n",
    "        print('\\t','-----------------')\n",
    "        print('\\t',self.board[0], '  |  ', self.board[1],'  |  ', self.board[2])\n",
    "        \n",
    "    def xplace(self):\n",
    "        \n",
    "        place = int(input('Numpad input (1-9): '))\n",
    "        self.board[place-1] = 'X'\n",
    "        \n",
    "        \n",
    "    def oplace(self):\n",
    "        \n",
    "        place = int(input('Numpad input (1-9): '))\n",
    "        self.board[place-1] = 'O'\n",
    "        \n",
    "        \n",
    "    def xwin(self):\n",
    "        if self.board[0] == self.board[1] == self.board[2] == 'X':\n",
    "            return True\n",
    "        elif self.board[3] == self.board[4] == self.board[5] == 'X':\n",
    "            return True \n",
    "        elif self.board[6] == self.board[7] == self.board[8] == 'X':\n",
    "            return True\n",
    "        elif self.board[0] == self.board[3] == self.board[6] == 'X':\n",
    "            return True\n",
    "        elif self.board[1] == self.board[4] == self.board[7] == 'X':\n",
    "            return True\n",
    "        elif self.board[2] == self.board[5] == self.board[8] == 'X':\n",
    "            return True\n",
    "        elif self.board[0] == self.board[4] == self.board[8] == 'X':\n",
    "            return True\n",
    "        elif self.board[2] == self.board[4] == self.board[6] == 'X':\n",
    "            return True\n",
    "        \n",
    "    def owin(self):\n",
    "        if self.board[0] == self.board[1] == self.board[2] == 'O':\n",
    "            return True\n",
    "        elif self.board[3] == self.board[4] == self.board[5] == 'O':\n",
    "            return True \n",
    "        elif self.board[6] == self.board[7] == self.board[8] == 'O':\n",
    "            return True\n",
    "        elif self.board[0] == self.board[3] == self.board[6] == 'O':\n",
    "            return True\n",
    "        elif self.board[1] == self.board[4] == self.board[7] == 'O':\n",
    "            return True\n",
    "        elif self.board[2] == self.board[5] == self.board[8] == 'O':\n",
    "            return True\n",
    "        elif self.board[0] == self.board[4] == self.board[8] == 'O':\n",
    "            return True\n",
    "        elif self.board[2] == self.board[4] == self.board[6] == 'O':\n",
    "            return True"
   ]
  },
  {
   "cell_type": "code",
   "execution_count": 33,
   "metadata": {
    "collapsed": false
   },
   "outputs": [],
   "source": [
    "def main_game():\n",
    "    from IPython.display import clear_output\n",
    "    print('Welcome to Tic Tac Toe')\n",
    "    print('Player 1 = X, Player 2 = O')\n",
    "    print('To place a marker, use the numkeys on the numpad.')\n",
    "    bord = gameboard()\n",
    "    bord.new_board()\n",
    "    bord.display()\n",
    "    while any(mark == ''for mark in bord.board):\n",
    "        print('Player 1 please place marker.')\n",
    "        bord.xplace()\n",
    "        clear_output()\n",
    "        bord.display()\n",
    "        if bord.xwin():\n",
    "            print('Player 1 wins!')\n",
    "            break\n",
    "        if  not any(mark == ''for mark in bord.board):\n",
    "            break\n",
    "        print('Player 2 please place marker.')\n",
    "        bord.oplace()\n",
    "        clear_output()\n",
    "        bord.display()\n",
    "        if bord.owin():\n",
    "            print('Player 2 wins!')\n",
    "            break\n",
    "        if not any(mark == ''for mark in bord.board):\n",
    "            break\n",
    "    if not bord.xwin() and not bord.owin():\n",
    "        print('Draw')\n",
    "    print('Game Over')\n",
    "        "
   ]
  },
  {
   "cell_type": "code",
   "execution_count": 39,
   "metadata": {
    "collapsed": false
   },
   "outputs": [
    {
     "name": "stdout",
     "output_type": "stream",
     "text": [
      "\n",
      "\t O   |   X   |   X\n",
      "\t -----------------\n",
      "\t X   |   O   |   O\n",
      "\t -----------------\n",
      "\t X   |   O   |   X\n",
      "Draw\n",
      "Game Over\n"
     ]
    }
   ],
   "source": [
    "main_game()"
   ]
  },
  {
   "cell_type": "code",
   "execution_count": null,
   "metadata": {
    "collapsed": true
   },
   "outputs": [],
   "source": []
  },
  {
   "cell_type": "code",
   "execution_count": null,
   "metadata": {
    "collapsed": true
   },
   "outputs": [],
   "source": []
  }
 ],
 "metadata": {
  "anaconda-cloud": {},
  "kernelspec": {
   "display_name": "Python [default]",
   "language": "python",
   "name": "python3"
  },
  "language_info": {
   "codemirror_mode": {
    "name": "ipython",
    "version": 3
   },
   "file_extension": ".py",
   "mimetype": "text/x-python",
   "name": "python",
   "nbconvert_exporter": "python",
   "pygments_lexer": "ipython3",
   "version": "3.5.2"
  }
 },
 "nbformat": 4,
 "nbformat_minor": 1
}
