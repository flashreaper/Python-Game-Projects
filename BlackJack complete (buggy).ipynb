{
 "cells": [
  {
   "cell_type": "code",
   "execution_count": 1,
   "metadata": {
    "collapsed": true
   },
   "outputs": [],
   "source": [
    "class Card(object):\n",
    "    \"\"\" A playing card. \"\"\"\n",
    "    RANKS = [\"A\", \"2\", \"3\", \"4\", \"5\", \"6\", \"7\",\"8\", \"9\", \"10\", \"J\", \"Q\", \"K\"]\n",
    "    SUITS = [\"C\", \"D\", \"H\", \"S\"]\n",
    "\n",
    "    def __init__(self, rank, suit):\n",
    "        self.rank = rank\n",
    "        self.suit = suit\n",
    "\n",
    "    def __str__(self):\n",
    "        rep = self.rank + ' of ' + self.suit\n",
    "        return rep"
   ]
  },
  {
   "cell_type": "code",
   "execution_count": 2,
   "metadata": {
    "collapsed": true
   },
   "outputs": [],
   "source": [
    "class Hand(object):\n",
    "    \"\"\" A hand of playing cards. \"\"\"\n",
    "    def __init__(self):\n",
    "        self.cards = []\n",
    "\n",
    "    def __str__(self):\n",
    "        if self.cards:\n",
    "           rep = \"\"\n",
    "           for card in self.cards:\n",
    "               rep += str(card) + \"\\t\"\n",
    "        else:\n",
    "            rep = \"<empty>\"\n",
    "        return rep\n",
    "\n",
    "    def clear(self):\n",
    "        self.cards = []\n",
    "\n",
    "    def add(self, card):\n",
    "        self.cards.append(card)\n",
    "\n",
    "    def give(self, card, other_hand):\n",
    "        self.cards.remove(card)\n",
    "        other_hand.add(card)"
   ]
  },
  {
   "cell_type": "code",
   "execution_count": 3,
   "metadata": {
    "collapsed": true
   },
   "outputs": [],
   "source": [
    "class Deck(Hand):\n",
    "    \"\"\" A deck of playing cards. \"\"\"\n",
    "    def populate(self):\n",
    "        if len(self.cards) < 52:\n",
    "            \n",
    "            for suit in Card.SUITS:\n",
    "                for rank in Card.RANKS: \n",
    "                    self.add(Card(rank, suit))\n",
    "        else:\n",
    "            print('Deck full!')\n",
    "\n",
    "    def shuffle(self,ntimes = 5):\n",
    "        import random\n",
    "        for times in range(ntimes):\n",
    "            random.shuffle(self.cards)\n",
    "\n",
    "    def deal(self, hands, per_hand = 1):\n",
    "        for rounds in range(per_hand):\n",
    "            for hand in hands:\n",
    "                if self.cards:\n",
    "                    top_card = self.cards[0]\n",
    "                    self.give(top_card, hand)\n",
    "                else:\n",
    "                    print(\"Can't continue deal. Out of cards!\")"
   ]
  },
  {
   "cell_type": "code",
   "execution_count": 4,
   "metadata": {
    "collapsed": false
   },
   "outputs": [],
   "source": [
    "class BJ_Card(Card):\n",
    "    \"\"\" A Blackjack Card. \"\"\"\n",
    "    ACE_VALUE = 1\n",
    "    \n",
    "    def value(self):\n",
    "        v = BJ_Card.RANKS.index(self.rank) + 1\n",
    "        if v < 10:\n",
    "            v = v\n",
    "        else:\n",
    "            v = 10\n",
    "        return v"
   ]
  },
  {
   "cell_type": "code",
   "execution_count": 5,
   "metadata": {
    "collapsed": true
   },
   "outputs": [],
   "source": [
    "card1 = BJ_Card('10','C')"
   ]
  },
  {
   "cell_type": "code",
   "execution_count": 6,
   "metadata": {
    "collapsed": false
   },
   "outputs": [
    {
     "data": {
      "text/plain": [
       "10"
      ]
     },
     "execution_count": 6,
     "metadata": {},
     "output_type": "execute_result"
    }
   ],
   "source": [
    "card1.value()"
   ]
  },
  {
   "cell_type": "code",
   "execution_count": 7,
   "metadata": {
    "collapsed": false
   },
   "outputs": [],
   "source": [
    "class BJ_Hand(Hand):\n",
    "       \n",
    "    def total(self):\n",
    "        \n",
    "        for card in self.cards:\n",
    "            if not card.value():\n",
    "                return None\n",
    "        \n",
    "        t = 0\n",
    "        for card in self.cards:\n",
    "              t += card.value()\n",
    "\n",
    "        contains_ace = False\n",
    "        for card in self.cards:\n",
    "            if card.value() == card.ACE_VALUE:\n",
    "                contains_ace = True\n",
    "                \n",
    "        if contains_ace and t <= 11:\n",
    "            t += 10            \n",
    "        \n",
    "        return t\n",
    "\n",
    "    def is_busted(self):\n",
    "        return self.total() > 21\n"
   ]
  },
  {
   "cell_type": "code",
   "execution_count": 8,
   "metadata": {
    "collapsed": false
   },
   "outputs": [],
   "source": [
    "class BJ_Deck(Deck):\n",
    "    \"\"\" A Blackjack Deck. \"\"\"\n",
    "    def populate(self):\n",
    "        for suit in BJ_Card.SUITS: \n",
    "            for rank in BJ_Card.RANKS: \n",
    "                self.cards.append(BJ_Card(rank, suit))"
   ]
  },
  {
   "cell_type": "code",
   "execution_count": 9,
   "metadata": {
    "collapsed": false
   },
   "outputs": [],
   "source": [
    "class BJ_Dealer(BJ_Hand):\n",
    "    \"\"\" A Blackjack Dealer. \"\"\"\n",
    "    def is_hitting(self):\n",
    "        return self.total < 17\n",
    "\n",
    "    def bust(self):\n",
    "        print(self.name, \"busts.\")"
   ]
  },
  {
   "cell_type": "code",
   "execution_count": 28,
   "metadata": {
    "collapsed": false
   },
   "outputs": [],
   "source": [
    "class BJ_credit(object):\n",
    "    def __init__(self,credit):\n",
    "        self.credit = credit\n",
    "        \n",
    "    def win(self,bet):\n",
    "        self.credit = self.credit + bet\n",
    "        return self.credit\n",
    "        \n",
    "    def lose(self,bet):\n",
    "        self.credit = self.credit - bet\n",
    "        return self.credit"
   ]
  },
  {
   "cell_type": "code",
   "execution_count": 41,
   "metadata": {
    "collapsed": false
   },
   "outputs": [
    {
     "name": "stdout",
     "output_type": "stream",
     "text": [
      "1010\n"
     ]
    }
   ],
   "source": [
    "cred = BJ_credit(1000)\n",
    "cred.win(10)\n",
    "print(cred.credit)"
   ]
  },
  {
   "cell_type": "code",
   "execution_count": null,
   "metadata": {
    "collapsed": true
   },
   "outputs": [],
   "source": []
  },
  {
   "cell_type": "code",
   "execution_count": 11,
   "metadata": {
    "collapsed": false
   },
   "outputs": [],
   "source": [
    "def reset_hands(hands):\n",
    "    for hand in hands:\n",
    "        hand.clear()"
   ]
  },
  {
   "cell_type": "code",
   "execution_count": 12,
   "metadata": {
    "collapsed": true
   },
   "outputs": [],
   "source": [
    "def print_hands(hands):\n",
    "    print('playerhand: ',hands[0])\n",
    "    print('dealerhand: ',hands[1])"
   ]
  },
  {
   "cell_type": "code",
   "execution_count": 45,
   "metadata": {
    "collapsed": false
   },
   "outputs": [],
   "source": [
    "def BJgame():\n",
    "    from IPython.display import clear_output\n",
    "    clear_output()\n",
    "    print('Welcome to BlackJack!')\n",
    "    deck = BJ_Deck()\n",
    "    deck.populate()\n",
    "    deck.shuffle()\n",
    "    playerhand = BJ_Hand()\n",
    "    dealerhand = BJ_Dealer()\n",
    "    hands = [playerhand,dealerhand]\n",
    "    reset_hands(hands)\n",
    "    playercredit = BJ_credit(int(input('How much you want to play? ')))\n",
    "    print_hands(hands)\n",
    "    print('player credit: ',playercredit.credit)\n",
    "    \n",
    "    while playercredit.credit != 0:\n",
    "    \n",
    "        hand1 = [playerhand]\n",
    "        deck.deal(hand1,2)\n",
    "        clear_output()\n",
    "        print_hands(hands)\n",
    "        playerhand.total()\n",
    "        print('player credit: ',playercredit.credit)\n",
    "        bet = int(input('How much do you want to bet? :'))\n",
    "        if input('Do you want to hit? y/n ') == 'y':\n",
    "            deck.deal(hand1)\n",
    "            clear_output()\n",
    "            print_hands(hands)\n",
    "            playerhand.total()\n",
    "            if playerhand.is_busted():\n",
    "            \n",
    "                print('Bust!')\n",
    "            print('player credit: ',playercredit.credit)\n",
    "        elif playerhand.total() == 21:\n",
    "        \n",
    "            print('BLACKJACK!')\n",
    "            print('player credit: ',playercredit.credit)\n",
    "        \n",
    "        hand2 = [dealerhand]\n",
    "        deck.deal(hand2,2)\n",
    "        clear_output()\n",
    "        print_hands(hands)\n",
    "        print('player credit: ',playercredit.credit)\n",
    "        if dealerhand.total() < 17:\n",
    "            deck.deal(hand2)\n",
    "            clear_output()\n",
    "            print_hands(hands)\n",
    "            print('player credit: ',playercredit.credit)\n",
    "            if dealerhand.total() > 21:\n",
    "            \n",
    "                print('Dealer Bust!')\n",
    "                print('Player wins!')\n",
    "            \n",
    "        if playerhand.total() < dealerhand.total() and dealerhand.total() <= 21:\n",
    "            playercredit.lose(bet)\n",
    "            clear_output()\n",
    "            print_hands(hands)\n",
    "            print('player credit: ',playercredit.credit)\n",
    "            print('player lose')\n",
    "            \n",
    "        elif playerhand.total() > 21:\n",
    "            playercredit.lose(bet)\n",
    "            clear_output()\n",
    "            print_hands(hands)\n",
    "            print('player credit: ',playercredit.credit)\n",
    "            print('player lose')\n",
    "            \n",
    "            \n",
    "        elif playerhand.total() > dealerhand.total() and playerhand.total() <= 21:\n",
    "            playercredit.win(bet)\n",
    "            clear_output()\n",
    "            print_hands(hands)\n",
    "            print('player credit: ',playercredit.credit)\n",
    "            print('player win')\n",
    "            \n",
    "            \n",
    "        if input('Continue? y/n : ') == 'y':\n",
    "            reset_hands(hands)\n",
    "        \n",
    "        elif playercredit.credit == 0:\n",
    "            print('Game over!')\n",
    "            break\n",
    "        else:\n",
    "            break\n",
    "        "
   ]
  },
  {
   "cell_type": "code",
   "execution_count": 44,
   "metadata": {
    "collapsed": false,
    "scrolled": true
   },
   "outputs": [
    {
     "name": "stdout",
     "output_type": "stream",
     "text": [
      "playerhand:  10 of D\t7 of H\tK of C\t\n",
      "dealerhand:  10 of S\t7 of S\t\n",
      "player credit:  0\n",
      "player lose\n",
      "Continue? y/n : y\n",
      "Game over!\n"
     ]
    }
   ],
   "source": [
    "BJgame()"
   ]
  },
  {
   "cell_type": "code",
   "execution_count": null,
   "metadata": {
    "collapsed": true
   },
   "outputs": [],
   "source": []
  }
 ],
 "metadata": {
  "anaconda-cloud": {},
  "kernelspec": {
   "display_name": "Python [default]",
   "language": "python",
   "name": "python3"
  },
  "language_info": {
   "codemirror_mode": {
    "name": "ipython",
    "version": 3
   },
   "file_extension": ".py",
   "mimetype": "text/x-python",
   "name": "python",
   "nbconvert_exporter": "python",
   "pygments_lexer": "ipython3",
   "version": "3.5.2"
  }
 },
 "nbformat": 4,
 "nbformat_minor": 1
}
